{
 "cells": [
  {
   "cell_type": "code",
   "execution_count": null,
   "id": "35462524",
   "metadata": {},
   "outputs": [],
   "source": [
    "#!/usr/bin/env python3\n",
    "\"\"\"\n",
    "    File Name: 2D Dataset Generator.ipynb\n",
    "    Author: Thomas Frew\n",
    "    Date created: 07/01/2023\n",
    "    Date last modified: 24/01/2023\n",
    "    Python Version: 3.11\n",
    "    \n",
    "    Read PNGs from a specified directory. The user can label each\n",
    "    image with the point, indicating the center of some object of\n",
    "    interest.\n",
    "    \n",
    "    Each file name is saved in a CSV with its respective (2-dimensional)\n",
    "    point data.\n",
    "\"\"\""
   ]
  },
  {
   "cell_type": "code",
   "execution_count": null,
   "id": "6f153b0b",
   "metadata": {},
   "outputs": [],
   "source": [
    "# Use the tkinter backend for Matplotlib\n",
    "%matplotlib tk\n",
    "\n",
    "# Import Matplotlib functions\n",
    "import matplotlib.pyplot as plt\n",
    "import matplotlib.image as mpimg\n",
    "\n",
    "# Import helper functions\n",
    "import helpers"
   ]
  },
  {
   "cell_type": "code",
   "execution_count": null,
   "id": "77260e0b",
   "metadata": {},
   "outputs": [],
   "source": [
    "def displayImage(file_names, i):\n",
    "    \"\"\"\n",
    "    Display the ith image from a list of PNG file names, into the interface\n",
    "    \"\"\"\n",
    "    \n",
    "    # If there is an ith file...\n",
    "    if (i < len(file_names)):\n",
    "        \n",
    "        # Read the file's data\n",
    "        image_data = mpimg.imread(file_names[i])\n",
    "        \n",
    "        # Plot and display the file\n",
    "        imgplot.set_data(image_data)\n",
    "        fig.canvas.draw_idle()"
   ]
  },
  {
   "cell_type": "code",
   "execution_count": null,
   "id": "7c888a9d",
   "metadata": {},
   "outputs": [],
   "source": [
    "# Click-reading interactivity\n",
    "def labelImage(event):\n",
    "    global i\n",
    "\n",
    "    # If there are still images to label...\n",
    "    if (i < len(file_names)):\n",
    "        \n",
    "        # Read the coordinates of the user's click\n",
    "        x, y = int(event.xdata), int(event.ydata)\n",
    "\n",
    "        # If the click was outside the image, warn the user and do nothing\n",
    "        if (x == None or y == None):\n",
    "            print(\"No object found\")\n",
    "            \n",
    "        # Otherwise, create a new dataset entry with the file name and center point co-ordinates\n",
    "        else:\n",
    "            print(file_names[i], x, y)\n",
    "            data = [file_names[i],x,y]\n",
    "            training_data.append(data)\n",
    "            \n",
    "        # Display the next image\n",
    "        i += 1\n",
    "        displayImage(file_names,i)\n",
    "        \n",
    "    # If we have marked the center of each image's object, but have not save the dataset...\n",
    "    if (i == len(file_names)):\n",
    "            \n",
    "            # Indicate that we have labeled the center of each image's object\n",
    "            plt.title(\"Dataset Complete\")\n",
    "\n",
    "            # Save the training data\n",
    "            helpers.save_training_dataset(training_data)\n",
    "\n",
    "            # Report that the training data saved successfully\n",
    "            print(\"Dataset saved successfully.\")\n",
    "        \n",
    "            # Increment our image index, so the program does not react to any more clicks\n",
    "            i += 1"
   ]
  },
  {
   "cell_type": "code",
   "execution_count": null,
   "id": "a8be9b7d",
   "metadata": {},
   "outputs": [],
   "source": [
    "# Create global, dataset-management variables\n",
    "i = 0\n",
    "training_data = []"
   ]
  },
  {
   "cell_type": "code",
   "execution_count": null,
   "id": "699bcc1b",
   "metadata": {},
   "outputs": [],
   "source": [
    "# Read and store the dataset\n",
    "directory = helpers.read_dataset_dir()\n",
    "file_names = helpers.read_pngs(directory)"
   ]
  },
  {
   "cell_type": "code",
   "execution_count": null,
   "id": "b94e7f3e",
   "metadata": {},
   "outputs": [],
   "source": [
    "# Produce the interface to record point data\n",
    "fig = plt.figure(\"2D Dataset Generator\", figsize=(7,7))\n",
    "\n",
    "# Report that the user must click on the top-left of each image's bounding box\n",
    "plt.title(\"Center Points\")\n",
    "print(\"Please click on the center of each image's object of interest.\")"
   ]
  },
  {
   "cell_type": "code",
   "execution_count": null,
   "id": "cbba694a",
   "metadata": {
    "scrolled": true
   },
   "outputs": [],
   "source": [
    "# Display the first image for the user to label\n",
    "image_data = mpimg.imread(file_names[0])\n",
    "imgplot = plt.imshow(image_data)\n",
    "\n",
    "# Establish an event associated with clicking the figure (labelImage)\n",
    "click_id = fig.canvas.mpl_connect('button_press_event', labelImage)"
   ]
  },
  {
   "cell_type": "code",
   "execution_count": null,
   "id": "10cd8fc2",
   "metadata": {},
   "outputs": [],
   "source": []
  }
 ],
 "metadata": {
  "kernelspec": {
   "display_name": "Python 3 (ipykernel)",
   "language": "python",
   "name": "python3"
  },
  "language_info": {
   "codemirror_mode": {
    "name": "ipython",
    "version": 3
   },
   "file_extension": ".py",
   "mimetype": "text/x-python",
   "name": "python",
   "nbconvert_exporter": "python",
   "pygments_lexer": "ipython3",
   "version": "3.9.12"
  }
 },
 "nbformat": 4,
 "nbformat_minor": 5
}
