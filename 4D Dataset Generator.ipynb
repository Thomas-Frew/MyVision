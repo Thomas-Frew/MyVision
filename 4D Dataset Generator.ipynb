{
 "cells": [
  {
   "cell_type": "code",
   "execution_count": null,
   "id": "35462524",
   "metadata": {},
   "outputs": [],
   "source": [
    "#!/usr/bin/env python3\n",
    "\"\"\"\n",
    "    File Name: 4D Dataset Generator.ipynb\n",
    "    Author: Thomas Frew\n",
    "    Date created: 07/01/2023\n",
    "    Date last modified: 24/01/2023\n",
    "    Python Version: 3.11\n",
    "    \n",
    "    Read PNGs from a specified directory. The user can label each\n",
    "    image with the top-left and bottom-right points of a bounding\n",
    "    box, enclosing some object of interest.\n",
    "    \n",
    "    Each file name is saved in a CSV with its respective (4-dimensional)\n",
    "    bounding box data.\n",
    "\"\"\""
   ]
  },
  {
   "cell_type": "code",
   "execution_count": null,
   "id": "53e4ee5a",
   "metadata": {},
   "outputs": [],
   "source": [
    "# Use the tkinter backend for Matplotlib\n",
    "%matplotlib tk\n",
    "\n",
    "# Import Matplotlib functions\n",
    "import matplotlib.pyplot as plt\n",
    "import matplotlib.image as mpimg\n",
    "\n",
    "# Import helper functions\n",
    "import helpers"
   ]
  },
  {
   "cell_type": "code",
   "execution_count": null,
   "id": "77260e0b",
   "metadata": {},
   "outputs": [],
   "source": [
    "def displayImage(file_names, i):\n",
    "    \"\"\"\n",
    "    Display the ith image from a list of PNG file names, into the interface\n",
    "    \"\"\"\n",
    "    \n",
    "    # If there is an ith file...\n",
    "    if (i < len(file_names)):\n",
    "        \n",
    "        # Read the file's data\n",
    "        image_data = mpimg.imread(file_names[i])\n",
    "        \n",
    "        # Plot and display the file\n",
    "        imgplot.set_data(image_data)\n",
    "        fig.canvas.draw_idle()"
   ]
  },
  {
   "cell_type": "code",
   "execution_count": null,
   "id": "7c888a9d",
   "metadata": {},
   "outputs": [],
   "source": [
    "# Click-reading interactivity\n",
    "def labelImage(event):\n",
    "    \"\"\"\n",
    "    Read a click from the dataset-generating UI and write its co-ordinate data to the training dataset.\n",
    "    \"\"\"\n",
    "    global i, completion\n",
    "    \n",
    "    # If there are still images to label...\n",
    "    if (i < len(file_names)):\n",
    "        \n",
    "        # Read the coordinates of the user's click\n",
    "        x, y = int(event.xdata), int(event.ydata)\n",
    "\n",
    "        # If the click was outside the image, warn the user and do nothing\n",
    "        if (x == None or y == None):\n",
    "            print(\"No object found\")\n",
    "                \n",
    "        # If we have not recorded the top-left point of each image's bounding box...\n",
    "        elif (not completion[0]):\n",
    "            \n",
    "            # Create a new dataset entry, with the current file name and top-left point\n",
    "            data = [file_names[i],x,y]\n",
    "            training_data.append(data)\n",
    "            print(f\"{file_names[i]}: {x},{y}\")\n",
    "            \n",
    "        # Otherwise, this click was for the bottom-right point...\n",
    "        else:\n",
    "            \n",
    "            # Append the bottom-right point to the existing dataset entry\n",
    "            training_data[i].extend([x,y])\n",
    "            print(f\"{training_data[i][0]}: {training_data[i][1]},{training_data[i][2]} {x},{y}\")\n",
    "            \n",
    "        # Display the next image\n",
    "        i += 1\n",
    "        displayImage(file_names,i)\n",
    "\n",
    "    # If there are no more images to label...\n",
    "    if (i == len(file_names)):\n",
    "    \n",
    "        # Otherwise, if we not recorded the top-left point of each image's bounding box...\n",
    "        if (not completion[0]):\n",
    "            \n",
    "            # Store that we have recorded the top-left point of each image's bounding box\n",
    "            completion[0] = True\n",
    "            \n",
    "            # Report that the user must now click on the bottom-right point of each image's bounding box\n",
    "            plt.title(\"Bottom-Right Points\")\n",
    "            print(\"You have recorded the top-left point of each image's bounding box.\")\n",
    "            print(\"Now, please click on the bottom-right point of each image's bounding box.\")\n",
    "            \n",
    "            # Reset the index of the current image, so we can begin storing bottom-right points\n",
    "            i = 0\n",
    "            displayImage(file_names,i)\n",
    "\n",
    "        # Otherwise, if we have not recorded the bottom-right point of each image's bounding box\n",
    "        elif (not completion[1]):\n",
    "\n",
    "            # Store that we have recorded the bottom-right point of each image's bounding box\n",
    "            completion[1] = True\n",
    "            plt.title(\"Dataset Complete\")\n",
    "\n",
    "            # Save the training data\n",
    "            helpers.save_training_dataset(training_data)\n",
    "\n",
    "            # Report that the training data saved successfully\n",
    "            print(\"Dataset saved successfully.\")"
   ]
  },
  {
   "cell_type": "code",
   "execution_count": null,
   "id": "b7ed5cd8",
   "metadata": {},
   "outputs": [],
   "source": [
    "# Create global, dataset-management variables\n",
    "i = 0\n",
    "training_data = []\n",
    "completion = [False, False]"
   ]
  },
  {
   "cell_type": "code",
   "execution_count": null,
   "id": "d50e74ca",
   "metadata": {
    "scrolled": false
   },
   "outputs": [],
   "source": [
    "# Read and store the dataset\n",
    "directory = helpers.read_dataset_dir()\n",
    "file_names = helpers.read_pngs(directory)"
   ]
  },
  {
   "cell_type": "code",
   "execution_count": null,
   "id": "861f4114",
   "metadata": {},
   "outputs": [],
   "source": [
    "# Produce the interface to record point data\n",
    "fig = plt.figure(\"4D Dataset Generator\", figsize=(7,7))\n",
    "\n",
    "# Report that the user must click on the top-left of each image's bounding box\n",
    "plt.title(\"Top-Left Points\")\n",
    "print(\"Please click on the top-left point of each image's bounding box.\")"
   ]
  },
  {
   "cell_type": "code",
   "execution_count": null,
   "id": "0b6259e3",
   "metadata": {},
   "outputs": [],
   "source": [
    "# Display the first image for the user to label\n",
    "image_data = mpimg.imread(file_names[0])\n",
    "imgplot = plt.imshow(image_data)\n",
    "\n",
    "# Establish an event associated with clicking the figure (labelImage)\n",
    "click_id = fig.canvas.mpl_connect('button_press_event', labelImage)"
   ]
  },
  {
   "cell_type": "code",
   "execution_count": null,
   "id": "96e883d4",
   "metadata": {},
   "outputs": [],
   "source": []
  },
  {
   "cell_type": "code",
   "execution_count": null,
   "id": "62c5c643",
   "metadata": {},
   "outputs": [],
   "source": []
  }
 ],
 "metadata": {
  "kernelspec": {
   "display_name": "Python 3 (ipykernel)",
   "language": "python",
   "name": "python3"
  },
  "language_info": {
   "codemirror_mode": {
    "name": "ipython",
    "version": 3
   },
   "file_extension": ".py",
   "mimetype": "text/x-python",
   "name": "python",
   "nbconvert_exporter": "python",
   "pygments_lexer": "ipython3",
   "version": "3.9.12"
  }
 },
 "nbformat": 4,
 "nbformat_minor": 5
}
