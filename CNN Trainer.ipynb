{
 "cells": [
  {
   "cell_type": "code",
   "execution_count": null,
   "id": "87ce2616",
   "metadata": {},
   "outputs": [],
   "source": [
    "#!/usr/bin/env python3\n",
    "\"\"\"\n",
    "    File Name: CNN Trainer.ipynb\n",
    "    Author: Thomas Frew\n",
    "    Date created: 08/01/2023\n",
    "    Date last modified: 24/01/2023\n",
    "    Python Version: 3.11\n",
    "    \n",
    "    Reads \"Dataset.csv\", training data for a computer vision AI.\n",
    "    This can be in one of two forms:\n",
    "\n",
    "        - 2D: Images are labelled with coordinates, defining the center of some object of interest\n",
    "        - 4D: Images are labelled with coordinates, defining the bounding box around some object of interest\n",
    "\n",
    "    This data is then used to train a convolutional neural network\n",
    "    (CNN) with a preprogrammed architecture. Users can select the\n",
    "    number epochs the AI is trained for, visualise its training\n",
    "    progress and view its predictions.\n",
    "\"\"\""
   ]
  },
  {
   "cell_type": "code",
   "execution_count": null,
   "id": "ac716981",
   "metadata": {},
   "outputs": [],
   "source": [
    "# Import tensorflow for machine learning\n",
    "import tensorflow as tf\n",
    "from tensorflow.keras import layers\n",
    "from tensorflow.keras import models\n",
    "from tensorflow.keras.losses import SparseCategoricalCrossentropy\n",
    "\n",
    "# Import pandas and numpy for data manipulation\n",
    "import pandas as pd\n",
    "import numpy as np\n",
    "\n",
    "# Import cv2 for image manipulation\n",
    "import cv2\n",
    "\n",
    "# Import Matplotlib for plotting\n",
    "import matplotlib.pyplot as plt\n",
    "import matplotlib.patches as patches\n",
    "\n",
    "# Import random for rnadomisation\n",
    "import random"
   ]
  },
  {
   "cell_type": "code",
   "execution_count": null,
   "id": "6fe20f5b",
   "metadata": {},
   "outputs": [],
   "source": [
    "# Load the training dataset. This can be generated with \"2D Dataset Generator.ipynb or 4D Dataset Generator.ipynb\"\n",
    "dataset = pd.read_csv(\"Dataset.csv\")\n",
    "\n",
    "# Shuffle the dataset\n",
    "dataset = dataset.sample(frac=1).reset_index(drop=True)\n",
    "\n",
    "# Store the number of dimensions in the training data\n",
    "output_dim = len(dataset.columns) - 1\n",
    "\n",
    "# If the training dataset is 2D, then we are tracking center points\n",
    "if (output_dim == 2):\n",
    "    dataset.columns = [\"Filename\",\"x\",\"y\"]\n",
    "    \n",
    "    # Visualise the first 5 rows of the dataset\n",
    "    print(\"The first 5 rows of your dataset are:\")\n",
    "    print(dataset.head())\n",
    "    \n",
    "# If the training dataset is 4D, then we are tracking bounding boxes\n",
    "elif (output_dim == 4):\n",
    "    dataset.columns = [\"Filename\",\"x1\",\"y1\",\"x2\",\"y2\"]\n",
    "\n",
    "    # Visualise the first 5 rows of the dataset\n",
    "    print(\"The first 5 rows of your dataset are:\")\n",
    "    print(dataset.head())\n",
    "    \n",
    "# Otherwise, something has gone wrong\n",
    "else:\n",
    "    print(\"Input data not in 2D (center-point) or 4D (bounding box) format.\")"
   ]
  },
  {
   "cell_type": "code",
   "execution_count": null,
   "id": "47c149e5",
   "metadata": {},
   "outputs": [],
   "source": [
    "# Split the image filenames (col 0) from their coordinate data (cols 1-2 or 1-4)\n",
    "coords = dataset.copy()\n",
    "file_names = coords.pop('Filename')"
   ]
  },
  {
   "cell_type": "code",
   "execution_count": null,
   "id": "431476cb",
   "metadata": {
    "scrolled": true
   },
   "outputs": [],
   "source": [
    "# Load each file as its RGB image data\n",
    "image_data = []\n",
    "\n",
    "for fname in file_names:\n",
    "    image_data.append(cv2.cvtColor(cv2.imread(fname), cv2.COLOR_BGR2RGB))\n",
    "    \n",
    "# Store the length and width of each image\n",
    "input_len, input_wid, channels = image_data[0].shape\n",
    "    \n",
    "# Report the image shape data\n",
    "print(f\"Your images are {input_len} by {input_wid} with {channels} color channels.\")"
   ]
  },
  {
   "cell_type": "code",
   "execution_count": null,
   "id": "2d3f9471",
   "metadata": {},
   "outputs": [],
   "source": [
    "# Create a Convolutional Neural Network to predict the location of our centers/bounding boxes\n",
    "model = models.Sequential()\n",
    "model.add(layers.Conv2D(128, (3, 3), activation='relu', input_shape=(input_len, input_wid, channels))) # Depends on inage size\n",
    "model.add(layers.MaxPooling2D((2, 2)))\n",
    "model.add(layers.Conv2D(64, (3, 3), activation='relu'))\n",
    "model.add(layers.MaxPooling2D((2, 2)))\n",
    "model.add(layers.Conv2D(64, (3, 3), activation='relu'))\n",
    "model.add(layers.Flatten())\n",
    "model.add(layers.Dense(400, activation='relu'))\n",
    "model.add(layers.Dense(100))\n",
    "model.add(layers.Dense(30))\n",
    "model.add(layers.Dense(output_dim)) # Depends on output dimensions"
   ]
  },
  {
   "cell_type": "code",
   "execution_count": null,
   "id": "1dc77b6e",
   "metadata": {},
   "outputs": [],
   "source": [
    "# Visualise the model\n",
    "print(\"The model's structure is:\")\n",
    "print(model.summary())"
   ]
  },
  {
   "cell_type": "code",
   "execution_count": null,
   "id": "2ec930d5",
   "metadata": {},
   "outputs": [],
   "source": [
    "# Convert the training images and labels to numpy arrays\n",
    "image_data = np.asarray(image_data)\n",
    "coords = np.asarray(coords)"
   ]
  },
  {
   "cell_type": "code",
   "execution_count": null,
   "id": "01a2d026",
   "metadata": {},
   "outputs": [],
   "source": [
    "# Split up data into training and testing with a 9:1 ratio\n",
    "datapoints = len(coords)\n",
    "split_index = int(datapoints*0.1)\n",
    "\n",
    "train_data = image_data[split_index:]\n",
    "test_data = image_data[:split_index]\n",
    "\n",
    "train_labels = coords[split_index:]\n",
    "test_labels = coords[:split_index]"
   ]
  },
  {
   "cell_type": "code",
   "execution_count": null,
   "id": "2399f9df",
   "metadata": {},
   "outputs": [],
   "source": [
    "model.compile(optimizer='adam',loss=tf.keras.losses.MeanSquaredError(),metrics=['accuracy'])\n",
    "epochs = int(input(\"How many epochs do you want the CNN to be trained for?\\n>> \"))\n",
    "\n",
    "history = model.fit(train_data, train_labels, epochs=epochs, validation_data=(test_data, test_labels))"
   ]
  },
  {
   "cell_type": "code",
   "execution_count": null,
   "id": "baac2598",
   "metadata": {},
   "outputs": [],
   "source": [
    "# Ask the user if they would like to save the current model\n",
    "user_input = input(\"Would you like to save this AI as a file? (Y/n)\\n>> \")\n",
    "\n",
    "# If yes, save the model, to the current directory, in the folder \"Model\"\n",
    "if (user_input == 'Y'):\n",
    "    model.save(\"Model\")\n",
    "    print(\"AI successfully saved.\")"
   ]
  },
  {
   "cell_type": "code",
   "execution_count": null,
   "id": "f93febab",
   "metadata": {},
   "outputs": [],
   "source": [
    "# Plot the training and validation accuracy, over time\n",
    "plt.plot(history.history['accuracy'], label='Accuracy')\n",
    "plt.plot(history.history['val_accuracy'], label = 'Validation Accuracy')\n",
    "plt.xlabel('Epoch')\n",
    "plt.ylabel('Accuracy')\n",
    "plt.ylim([0.5, 1])\n",
    "plt.legend(loc='lower right')"
   ]
  },
  {
   "cell_type": "code",
   "execution_count": null,
   "id": "222009a4",
   "metadata": {},
   "outputs": [],
   "source": [
    "# Make the AI predict on all test data, and store these predictions\n",
    "predictions = model.predict(test_data)"
   ]
  },
  {
   "cell_type": "code",
   "execution_count": null,
   "id": "00a8c1b3",
   "metadata": {},
   "outputs": [],
   "source": [
    "## Ask the user how many test evaluations they would like to see\n",
    "n_plots = int(input(\"How many training outputs would you like to see? (≥2)\\n>> \"))\n",
    "\n",
    "# Create an n x 1 subplot to display n tests\n",
    "fig, axes = plt.subplots(1, n_plots, figsize=(15, 60)) \n",
    "\n",
    "# Display the first 5 test images and the AI's guess as to where their center is\n",
    "for i in range(0,n_plots):\n",
    "              \n",
    "    # Select a random test image, and display it\n",
    "    randi = random.randrange(split_index)\n",
    "    axes[i].imshow(test_data[randi])\n",
    "\n",
    "    # If the AI should detect the center of some object...\n",
    "    if (output_dim == 2):\n",
    "        \n",
    "        # Create a red point centered at where the AI thinks the object is\n",
    "        pred_point = patches.Rectangle((predictions[i][0], predictions[i][1]), 2, 2, linewidth=2, edgecolor='r', facecolor='none')\n",
    "        axes[i].add_patch(pred_point)\n",
    "\n",
    "        # Create a blue point centered at where the object actually is\n",
    "        true_point = patches.Rectangle((test_labels[i][0], test_labels[i][1]), 2, 2, linewidth=2, edgecolor='b', facecolor='none')\n",
    "        axes[i].add_patch(true_point)\n",
    "              \n",
    "    # If the AI should detect a bounding box around some object...\n",
    "    elif (output_dim == 4):\n",
    "              \n",
    "        # Create a red bounding box around where the AI thinks the object is\n",
    "        pred_len = predictions[randi][2] - predictions[randi][0]\n",
    "        pred_wid = predictions[randi][3] - predictions[randi][1]\n",
    "\n",
    "        pred_box = patches.Rectangle((predictions[randi][0], predictions[randi][1]), pred_len, pred_wid, linewidth=2, edgecolor='r', facecolor='none')\n",
    "        axes[i].add_patch(pred_box)\n",
    "\n",
    "        # Create a blue bounding box around where the object actually is\n",
    "        true_len = test_labels[randi][2] - test_labels[randi][0]\n",
    "        true_wid = test_labels[randi][3] - test_labels[randi][1]\n",
    "\n",
    "        true_box = patches.Rectangle((test_labels[randi][0], test_labels[randi][1]), true_len, true_wid, linewidth=2, edgecolor='b', facecolor='none')\n",
    "        axes[i].add_patch(true_box)\n",
    "\n",
    "    # Otherwise, something has gone wrong\n",
    "    else:\n",
    "        print(\"Input data not in 2D (center-point) or 4D (bounding box) format.\")\n",
    "        \n",
    "# Create a legend for the plot, automatically positioned\n",
    "plt.legend(['Prediction', 'Ground Truth'])"
   ]
  },
  {
   "cell_type": "code",
   "execution_count": null,
   "id": "32223b7e",
   "metadata": {},
   "outputs": [],
   "source": []
  },
  {
   "cell_type": "code",
   "execution_count": null,
   "id": "2c7cb4b1",
   "metadata": {},
   "outputs": [],
   "source": []
  }
 ],
 "metadata": {
  "kernelspec": {
   "display_name": "Python 3 (ipykernel)",
   "language": "python",
   "name": "python3"
  },
  "language_info": {
   "codemirror_mode": {
    "name": "ipython",
    "version": 3
   },
   "file_extension": ".py",
   "mimetype": "text/x-python",
   "name": "python",
   "nbconvert_exporter": "python",
   "pygments_lexer": "ipython3",
   "version": "3.9.12"
  }
 },
 "nbformat": 4,
 "nbformat_minor": 5
}
