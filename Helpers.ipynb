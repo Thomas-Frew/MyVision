{
 "cells": [
  {
   "cell_type": "code",
   "execution_count": 1,
   "id": "35462524",
   "metadata": {},
   "outputs": [],
   "source": [
    "# Use the tkinter library and import nessecary backends\n",
    "%matplotlib tk\n",
    "import matplotlib.pyplot as plt\n",
    "import matplotlib.image as mpimg\n",
    "\n",
    "# Use os\n",
    "from os import listdir, getcwd\n",
    "\n",
    "# Use csvs\n",
    "import csv\n",
    "\n",
    "# Use the path library\n",
    "from pathlib import Path"
   ]
  },
  {
   "cell_type": "code",
   "execution_count": 2,
   "id": "c33c3ec7",
   "metadata": {},
   "outputs": [],
   "source": [
    "def readDatasetDirectory():\n",
    "    \"\"\"\n",
    "    Reads the dataset's directory from the user.\n",
    "    \"\"\"\n",
    "    suffix = input(\"Please enter the folder your images are located in.\\n\")\n",
    "    directory = getcwd() + \"\\\\\" + suffix + \"\\\\\"\n",
    "    return directory"
   ]
  },
  {
   "cell_type": "code",
   "execution_count": 3,
   "id": "49b9291e",
   "metadata": {},
   "outputs": [],
   "source": [
    "def readPNGs(directory):\n",
    "    \"\"\"\n",
    "    Returns a list of all PNGs in a given directory.\n",
    "    \"\"\"\n",
    "    # A list of all files in the current directory\n",
    "    file_names = listdir(dataset_dir)\n",
    "    \n",
    "    # The upper limit of PNGs to import\n",
    "    N = 10000;\n",
    "    \n",
    "    # The list of imported PNGs\n",
    "    png_file_names = []\n",
    "\n",
    "    # Iterator\n",
    "    i = 0\n",
    "\n",
    "    # Read up to N files from the given directory\n",
    "    for file in file_names:\n",
    "        if (i < N and file.endswith('.png')):\n",
    "            png_file_names.append(directory + file)\n",
    "            i += 1\n",
    "\n",
    "    # Confirm the number of loaded files\n",
    "    print(f\"Loaded {i} files from {dataset_dir}\")\n",
    "    \n",
    "    # Return PNGs from the given directory\n",
    "    return png_file_names"
   ]
  },
  {
   "cell_type": "code",
   "execution_count": null,
   "id": "861f4114",
   "metadata": {},
   "outputs": [],
   "source": []
  },
  {
   "cell_type": "code",
   "execution_count": null,
   "id": "96e883d4",
   "metadata": {},
   "outputs": [],
   "source": []
  }
 ],
 "metadata": {
  "kernelspec": {
   "display_name": "Python 3 (ipykernel)",
   "language": "python",
   "name": "python3"
  },
  "language_info": {
   "codemirror_mode": {
    "name": "ipython",
    "version": 3
   },
   "file_extension": ".py",
   "mimetype": "text/x-python",
   "name": "python",
   "nbconvert_exporter": "python",
   "pygments_lexer": "ipython3",
   "version": "3.9.12"
  }
 },
 "nbformat": 4,
 "nbformat_minor": 5
}
