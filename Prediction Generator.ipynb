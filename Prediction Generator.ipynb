{
 "cells": [
  {
   "cell_type": "code",
   "execution_count": null,
   "id": "8b871df9",
   "metadata": {},
   "outputs": [],
   "source": [
    "#!/usr/bin/env python3\n",
    "\"\"\"\n",
    "    File Name: Prediction Generator.ipynb\n",
    "    Author: Thomas Frew\n",
    "    Date created: 07/01/2023\n",
    "    Date last modified: 24/01/2023\n",
    "    Python Version: 3.11\n",
    "    \n",
    "    Users select specific images for a CNN to create a \n",
    "    prediction for. \n",
    "\"\"\""
   ]
  },
  {
   "cell_type": "code",
   "execution_count": null,
   "id": "c3792f6e",
   "metadata": {},
   "outputs": [],
   "source": [
    "# Import tensorflow for machine learning\n",
    "import tensorflow as tf\n",
    "from tensorflow.keras import models\n",
    "\n",
    "# Import tkinter for the  file dialog\n",
    "from tkinter import *\n",
    "from tkinter import filedialog\n",
    "\n",
    "# Import numpy for data manipulation\n",
    "import numpy as np\n",
    "\n",
    "# Import cv2 for image manipulation\n",
    "import cv2\n",
    "\n",
    "# Import Matplotlib for plotting\n",
    "import matplotlib.pyplot as plt\n",
    "import matplotlib.patches as patches\n",
    "\n",
    "# Import the current working directory function from os\n",
    "from os import getcwd"
   ]
  },
  {
   "cell_type": "code",
   "execution_count": null,
   "id": "a23bccb3",
   "metadata": {},
   "outputs": [],
   "source": [
    "# Load the AI model created in \"CNN Trainer.ipynb\"\n",
    "model = models.load_model(\"Model\")\n",
    "\n",
    "# Find the width, height and channels of the model's input\n",
    "config = model.get_config()\n",
    "input_shape = config[\"layers\"][0][\"config\"][\"batch_input_shape\"]\n",
    "\n",
    "model_len = input_shape[1]\n",
    "model_wid = input_shape[2]\n",
    "model_chans = input_shape[3]"
   ]
  },
  {
   "cell_type": "code",
   "execution_count": null,
   "id": "7381b1b9",
   "metadata": {},
   "outputs": [],
   "source": [
    "# Create Tkinter root, and hide it\n",
    "root = Tk()\n",
    "root.withdraw()\n",
    "root.call('wm', 'attributes', '.', '-topmost', True)\n",
    "\n",
    "selected = False;\n",
    "image_data = []\n",
    "\n",
    "input_len = 0\n",
    "input_wid = 0\n",
    "\n",
    "# While the user has not selected a proper image...\n",
    "while (not selected):\n",
    "    \n",
    "    # Prompt the user to select an image\n",
    "    file_name = filedialog.askopenfilename(filetypes=[(\"Image Files\", \"*.png *.jpg *.jpeg\")], initialdir = getcwd())\n",
    "    %gui tk\n",
    "    \n",
    "    # If the user selected an image...\n",
    "    if (file_name != \"\"):\n",
    "        \n",
    "        # Parse the image data\n",
    "        image_data = cv2.cvtColor(cv2.imread(file_name), cv2.COLOR_BGR2RGB)\n",
    "\n",
    "        # Unpack the image dimensions\n",
    "        input_len, input_wid, input_chans = image_data.shape\n",
    "        \n",
    "        # If the dimensions match, then we have successfully selected our image\n",
    "        if (input_len == model_len and input_wid == model_wid and input_chans == model_chans):\n",
    "            selected = True\n",
    "        \n",
    "        # Otherwise, remind the user of the correct file's dimensions\n",
    "        else:\n",
    "            print(f\"Please select a file that is {model_len} x {model_wid} x {model_chans}\");\n",
    "        \n",
    "    # Otherwise, warn the user that they must select an image\n",
    "    else:\n",
    "        print(\"Please select an image file.\")\n",
    "    \n",
    "# Print the selected file name\n",
    "print(f\"You have selected: {file_name}\")"
   ]
  },
  {
   "cell_type": "code",
   "execution_count": null,
   "id": "94357c43",
   "metadata": {},
   "outputs": [],
   "source": [
    "# Convert the image data to a numpy array and nest it so it is accepted by the AI\n",
    "input_data = image_data;\n",
    "input_data = np.expand_dims(input_data, axis=0)"
   ]
  },
  {
   "cell_type": "code",
   "execution_count": null,
   "id": "3a66867f",
   "metadata": {},
   "outputs": [],
   "source": [
    "# Generate a prediction for the selected image\n",
    "prediction = model.predict(input_data)\n",
    "\n",
    "# Flatten the prediction data so it is easier to work with\n",
    "prediction = prediction.flatten()"
   ]
  },
  {
   "cell_type": "code",
   "execution_count": null,
   "id": "5776576f",
   "metadata": {
    "scrolled": false
   },
   "outputs": [],
   "source": [
    "# Create subplot to display our prediction\n",
    "fig, axis = plt.subplots(1,1,figsize=(15, 60)) \n",
    "\n",
    "# Display the image\n",
    "axis.imshow(image_data)\n",
    "\n",
    "# If the AI should detect the center of some object...\n",
    "if (len(prediction) == 2):\n",
    "    \n",
    "    # Create a red point centered at where the AI thinks the object is\n",
    "    pred_point = patches.Rectangle((prediction[0], prediction[1]), 2, 2, linewidth=2, edgecolor='r', facecolor='none')\n",
    "    axis.add_patch(pred_point)\n",
    "\n",
    "# If the AI should detect a bounding box around some object...\n",
    "elif (len(prediction) == 4):\n",
    "\n",
    "    # Create a red bounding box around where the AI thinks the object is\n",
    "    pred_len = prediction[2] - prediction[0]\n",
    "    pred_wid = prediction[3] - prediction[1]\n",
    "\n",
    "    pred_box = patches.Rectangle((prediction[0], prediction[1]), pred_len, pred_wid, linewidth=2, edgecolor='r', facecolor='none')\n",
    "    axis.add_patch(pred_box)\n",
    "\n",
    "# Otherwise, something has gone wrong\n",
    "else:\n",
    "    print(\"Input data not in 2D (center-point) or 4D (bounding box) format.\")\n",
    "        "
   ]
  },
  {
   "cell_type": "code",
   "execution_count": null,
   "id": "83e7579c",
   "metadata": {},
   "outputs": [],
   "source": []
  }
 ],
 "metadata": {
  "kernelspec": {
   "display_name": "Python 3 (ipykernel)",
   "language": "python",
   "name": "python3"
  },
  "language_info": {
   "codemirror_mode": {
    "name": "ipython",
    "version": 3
   },
   "file_extension": ".py",
   "mimetype": "text/x-python",
   "name": "python",
   "nbconvert_exporter": "python",
   "pygments_lexer": "ipython3",
   "version": "3.9.12"
  }
 },
 "nbformat": 4,
 "nbformat_minor": 5
}
